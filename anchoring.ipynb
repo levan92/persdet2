{
 "cells": [
  {
   "cell_type": "code",
   "execution_count": 14,
   "metadata": {},
   "outputs": [],
   "source": [
    "from collections import defaultdict\n",
    "\n",
    "def get_info_from_coco(coco_dict, include_crowdedness=False):\n",
    "    # if include_crowdedness, you need to make sure no overlapping image_ids if 'images' are merged\n",
    "    if include_crowdedness:\n",
    "        counts = defaultdict(int)\n",
    "    sizes = []\n",
    "    ars = []\n",
    "    for annot in coco_dict['annotations']:\n",
    "        if include_crowdedness:\n",
    "            img_id = annot['image_id']\n",
    "            counts[img_id] += 1\n",
    "        l,t,w,h = annot['bbox']\n",
    "        ar = h/w #anchor aspect ratios are height/width\n",
    "        size = ( w * h ) ** 0.5\n",
    "        ars.append(ar)\n",
    "        sizes.append(size)\n",
    "    if include_crowdedness:\n",
    "        crowdedness = list(counts.values())\n",
    "        return ars, sizes, crowdedness\n",
    "    else:\n",
    "        return ars, sizes"
   ]
  },
  {
   "cell_type": "code",
   "execution_count": 15,
   "metadata": {},
   "outputs": [],
   "source": [
    "from sklearn.cluster import KMeans \n",
    "import numpy as np\n",
    "\n",
    "def get_clusters(juice_list, k=3):\n",
    "    kmeans = KMeans(n_clusters=k)\n",
    "    juice = np.array(juice_list).reshape(-1,1)\n",
    "    clusters = kmeans.fit(juice)\n",
    "    cluster_centers = sorted(clusters.cluster_centers_.flatten().tolist())\n",
    "#     print(clusters)\n",
    "    print('[[{:.1f}, {:.1f}, {:.1f}]]'.format(*cluster_centers))\n",
    "    return cluster_centers "
   ]
  },
  {
   "cell_type": "code",
   "execution_count": 16,
   "metadata": {},
   "outputs": [],
   "source": [
    "from scipy.stats import describe \n",
    "from statistics import median\n",
    "\n",
    "def describe_stats(juice_list):\n",
    "    descrip = describe(juice_list)\n",
    "    median_val = median(juice_list)\n",
    "    sd = descrip.variance**0.5\n",
    "    print(f'minmax {descrip.minmax}, mean {descrip.mean}, median {median_val}, sd {sd}')\n",
    "    return descrip.minmax, descrip.mean, median_val, sd"
   ]
  },
  {
   "cell_type": "code",
   "execution_count": 17,
   "metadata": {},
   "outputs": [],
   "source": [
    "def process(coco_dict, include_crowdedness):\n",
    "    res = get_info_from_coco(coco_dict, include_crowdedness=include_crowdedness)\n",
    "    ars_clusters = get_clusters(res[0])    \n",
    "    size_clusters = get_clusters(res[1])\n",
    "    if include_crowdedness:\n",
    "        crowd_minmax, crowd_mean, crowd_med, crowd_sd = describe_stats(res[2])\n",
    "        return ars_clusters, size_clusters, crowd_minmax, crowd_mean, crowd_med, crowd_sd\n",
    "    else:\n",
    "        return ars_clusters, size_clusters"
   ]
  },
  {
   "cell_type": "code",
   "execution_count": 18,
   "metadata": {},
   "outputs": [],
   "source": [
    "import json\n",
    "def load_coco_jsons(json_list):\n",
    "    all_coco_dict = {'images':[], 'annotations':[]}\n",
    "    for p in json_list:\n",
    "        with open(p, 'r') as f:\n",
    "            coco_dict = json.load(f)\n",
    "            all_coco_dict['images'].extend(coco_dict['images'])\n",
    "            all_coco_dict['annotations'].extend(coco_dict['annotations'])      \n",
    "    return all_coco_dict"
   ]
  },
  {
   "cell_type": "code",
   "execution_count": 20,
   "metadata": {},
   "outputs": [],
   "source": [
    "all_jsons = [\n",
    "    '/media/dh/HDD/persdet/EuroCity_Persons/data/ECP_day/day_all.json',\n",
    "    '/media/dh/HDD/persdet/EuroCity_Persons/data/ECP_night/night_all.json'\n",
    "]"
   ]
  },
  {
   "cell_type": "code",
   "execution_count": 21,
   "metadata": {},
   "outputs": [
    {
     "name": "stdout",
     "output_type": "stream",
     "text": [
      "[[2.4, 3.3, 8.3]]\n",
      "[[40.7, 114.8, 270.6]]\n",
      "[2.3570537479387808, 3.3154328892114195, 8.26113462254997]\n"
     ]
    }
   ],
   "source": [
    "all_coco_dict = load_coco_jsons(all_jsons)\n",
    "ars_clusters, size_clusters = process(all_coco_dict, include_crowdedness=False)\n",
    "print(ars_clusters)"
   ]
  },
  {
   "cell_type": "code",
   "execution_count": 22,
   "metadata": {},
   "outputs": [
    {
     "name": "stdout",
     "output_type": "stream",
     "text": [
      "[[2.3, 3.3, 8.5]]\n",
      "[[39.7, 112.7, 269.2]]\n",
      "minmax (1, 68), mean 6.18631583429131, median 4, sd 6.1519086317902305\n"
     ]
    },
    {
     "data": {
      "text/plain": [
       "([2.3464482017587267, 3.3133079412540143, 8.467081401730354],\n",
       " [39.70070069899383, 112.66212355417952, 269.20293951200006],\n",
       " (1, 68),\n",
       " 6.18631583429131,\n",
       " 4,\n",
       " 6.1519086317902305)"
      ]
     },
     "execution_count": 22,
     "metadata": {},
     "output_type": "execute_result"
    }
   ],
   "source": [
    "coco_dict = load_coco_jsons(['/media/dh/HDD/persdet/EuroCity_Persons/data/ECP_day/day_all.json'])\n",
    "process(coco_dict, include_crowdedness=True)"
   ]
  },
  {
   "cell_type": "code",
   "execution_count": 24,
   "metadata": {},
   "outputs": [
    {
     "name": "stdout",
     "output_type": "stream",
     "text": [
      "[[2.2, 2.9, 3.7]]\n",
      "[[45.2, 118.9, 267.6]]\n",
      "minmax (1, 48), mean 6.662465339047139, median 4, sd 6.55515105222178\n"
     ]
    },
    {
     "data": {
      "text/plain": [
       "([2.1565155047185782, 2.878856071602998, 3.7134438242302177],\n",
       " [45.21649622309776, 118.8915159434832, 267.63120321083375],\n",
       " (1, 48),\n",
       " 6.662465339047139,\n",
       " 4,\n",
       " 6.55515105222178)"
      ]
     },
     "execution_count": 24,
     "metadata": {},
     "output_type": "execute_result"
    }
   ],
   "source": [
    "coco_dict = load_coco_jsons(['/media/dh/HDD/persdet/EuroCity_Persons/data/ECP_night/night_all.json'])\n",
    "process(coco_dict, include_crowdedness=True)"
   ]
  },
  {
   "cell_type": "code",
   "execution_count": 19,
   "metadata": {},
   "outputs": [
    {
     "name": "stdout",
     "output_type": "stream",
     "text": [
      "[[0.9, 2.4, 5.2]]\n",
      "[[41.3, 166.2, 371.6]]\n",
      "minmax (1, 63), mean 7.427504038772213, median 4.0, sd 7.439433952242311\n"
     ]
    },
    {
     "data": {
      "text/plain": [
       "([0.8677967583504549, 2.377234663758716, 5.209625996250921],\n",
       " [41.26471535368576, 166.2468774628651, 371.55026392354694],\n",
       " (1, 63),\n",
       " 7.427504038772213,\n",
       " 4.0,\n",
       " 7.439433952242311)"
      ]
     },
     "execution_count": 19,
     "metadata": {},
     "output_type": "execute_result"
    }
   ],
   "source": [
    "coco_dict = load_coco_jsons(['/media/dh/HDD/coco/annotations/instances_val2017.json'])\n",
    "process(coco_dict, include_crowdedness=True)"
   ]
  },
  {
   "cell_type": "code",
   "execution_count": 12,
   "metadata": {},
   "outputs": [
    {
     "name": "stdout",
     "output_type": "stream",
     "text": [
      "[[0.9, 2.5, 5.4]]\n",
      "[[41.9, 170.0, 377.1]]\n"
     ]
    },
    {
     "data": {
      "text/plain": [
       "([0.8752519263080673, 2.4507500093109047, 5.443212345500358],\n",
       " [41.85086036093929, 170.02619322870692, 377.0692509236443])"
      ]
     },
     "execution_count": 12,
     "metadata": {},
     "output_type": "execute_result"
    }
   ],
   "source": [
    "coco_dict = load_coco_jsons(['/media/dh/HDD/coco/annotations/instances_train2017.json'])\n",
    "process(coco_dict, include_crowdedness=False)"
   ]
  },
  {
   "cell_type": "code",
   "execution_count": 27,
   "metadata": {},
   "outputs": [
    {
     "name": "stdout",
     "output_type": "stream",
     "text": [
      "[[1.2, 2.5, 4.4]]\n",
      "[[41.7, 171.2, 355.6]]\n"
     ]
    }
   ],
   "source": [
    "coco_persons = [\n",
    "    '/media/dh/HDD/coco/annotations/person_keypoints_train2017.json',\n",
    "    '/media/dh/HDD/coco/annotations/person_keypoints_val2017.json'\n",
    "]\n",
    "all_coco_dict = load_coco_jsons(coco_persons)\n",
    "ars_clusters, size_clusters = process(all_coco_dict, include_crowdedness=False)"
   ]
  },
  {
   "cell_type": "code",
   "execution_count": null,
   "metadata": {},
   "outputs": [],
   "source": []
  }
 ],
 "metadata": {
  "kernelspec": {
   "display_name": "Python 3",
   "language": "python",
   "name": "python3"
  },
  "language_info": {
   "codemirror_mode": {
    "name": "ipython",
    "version": 3
   },
   "file_extension": ".py",
   "mimetype": "text/x-python",
   "name": "python",
   "nbconvert_exporter": "python",
   "pygments_lexer": "ipython3",
   "version": "3.6.9"
  }
 },
 "nbformat": 4,
 "nbformat_minor": 4
}
